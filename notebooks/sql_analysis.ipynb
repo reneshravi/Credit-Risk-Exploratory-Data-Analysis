{
 "cells": [
  {
   "cell_type": "markdown",
   "metadata": {},
   "source": [
    "# SQL-Based Exploratory Analysis of Credit Risk\n",
    "\n",
    "This notebook explores a cleaned credit risk dataset using SQL queries. The data has been preprocessed to remove outliers and engineered to include features such as income brackets, age groups, debt ratio categories, and credit utilization bands.\n",
    "\n",
    "The goal is to use SQLite and SQL queries executed via Python to answer key questions related to borrower delinquency.\n"
   ]
  },
  {
   "cell_type": "markdown",
   "metadata": {},
   "source": [
    "## Setup"
   ]
  },
  {
   "cell_type": "code",
   "execution_count": 52,
   "metadata": {},
   "outputs": [
    {
     "data": {
      "text/plain": [
       "16182"
      ]
     },
     "execution_count": 52,
     "metadata": {},
     "output_type": "execute_result"
    }
   ],
   "source": [
    "import pandas as pd\n",
    "import sqlite3\n",
    "import seaborn as sns\n",
    "import matplotlib.pyplot as plt\n",
    "\n",
    "df = pd.read_csv('../data/clean_credit_risk.csv')\n",
    "connection_object = sqlite3.connect('../database/credit_risk.db')\n",
    "df.to_sql('credit_risk', connection_object, if_exists='replace', index=False)"
   ]
  },
  {
   "cell_type": "markdown",
   "metadata": {},
   "source": [
    "## Analysis"
   ]
  },
  {
   "cell_type": "markdown",
   "metadata": {},
   "source": [
    "### What share of borrowers defaulted?"
   ]
  },
  {
   "cell_type": "code",
   "execution_count": 53,
   "metadata": {},
   "outputs": [
    {
     "data": {
      "text/html": [
       "<div>\n",
       "<style scoped>\n",
       "    .dataframe tbody tr th:only-of-type {\n",
       "        vertical-align: middle;\n",
       "    }\n",
       "\n",
       "    .dataframe tbody tr th {\n",
       "        vertical-align: top;\n",
       "    }\n",
       "\n",
       "    .dataframe thead th {\n",
       "        text-align: right;\n",
       "    }\n",
       "</style>\n",
       "<table border=\"1\" class=\"dataframe\">\n",
       "  <thead>\n",
       "    <tr style=\"text-align: right;\">\n",
       "      <th></th>\n",
       "      <th>default_rate</th>\n",
       "    </tr>\n",
       "  </thead>\n",
       "  <tbody>\n",
       "    <tr>\n",
       "      <th>0</th>\n",
       "      <td>0.496539</td>\n",
       "    </tr>\n",
       "  </tbody>\n",
       "</table>\n",
       "</div>"
      ],
      "text/plain": [
       "   default_rate\n",
       "0      0.496539"
      ]
     },
     "metadata": {},
     "output_type": "display_data"
    }
   ],
   "source": [
    "query = \"\"\"\n",
    "SELECT AVG(dlq_2yrs) AS default_rate\n",
    "FROM credit_risk;\n",
    "\"\"\"\n",
    "display(pd.read_sql_query(query, connection_object))"
   ]
  },
  {
   "cell_type": "markdown",
   "metadata": {},
   "source": [
    "\n",
    "#### Insight:\n",
    "\n",
    "Roughly **49.7%** of borrowers in the dataset defaulted, indicating a high-risk borrower pool. The default rate is surprisingly high and may be the result of the dataset being balanced or limited to higher-risk applicants. Regardless, this value acts as a **baseline** for comparing subgroup risk levels in later queries.\n"
   ]
  },
  {
   "cell_type": "markdown",
   "metadata": {},
   "source": [
    "### How many borrowers have never been late vs. those who have?\n"
   ]
  },
  {
   "cell_type": "code",
   "execution_count": 54,
   "metadata": {},
   "outputs": [
    {
     "data": {
      "text/html": [
       "<div>\n",
       "<style scoped>\n",
       "    .dataframe tbody tr th:only-of-type {\n",
       "        vertical-align: middle;\n",
       "    }\n",
       "\n",
       "    .dataframe tbody tr th {\n",
       "        vertical-align: top;\n",
       "    }\n",
       "\n",
       "    .dataframe thead th {\n",
       "        text-align: right;\n",
       "    }\n",
       "</style>\n",
       "<table border=\"1\" class=\"dataframe\">\n",
       "  <thead>\n",
       "    <tr style=\"text-align: right;\">\n",
       "      <th></th>\n",
       "      <th>never_late</th>\n",
       "      <th>late</th>\n",
       "    </tr>\n",
       "  </thead>\n",
       "  <tbody>\n",
       "    <tr>\n",
       "      <th>0</th>\n",
       "      <td>9434</td>\n",
       "      <td>6748</td>\n",
       "    </tr>\n",
       "  </tbody>\n",
       "</table>\n",
       "</div>"
      ],
      "text/plain": [
       "   never_late  late\n",
       "0        9434  6748"
      ]
     },
     "metadata": {},
     "output_type": "display_data"
    }
   ],
   "source": [
    "query = \"\"\"\n",
    "SELECT \n",
    "  SUM(total_late = 0) AS never_late,\n",
    "  SUM(total_late > 0) AS late\n",
    "FROM credit_risk;\n",
    "\"\"\"\n",
    "display(pd.read_sql_query(query, connection_object))\n"
   ]
  },
  {
   "cell_type": "markdown",
   "metadata": {},
   "source": [
    "\n",
    "#### Insight:\n",
    "\n",
    "The majority of borrowers (about 58%) have **no late payments**, suggesting that not all borrowers with high debt ratios or utilization are equally risky. This segmentation lays the groundwork for more **targeted comparisons** based on behavior, not just financials.\n"
   ]
  },
  {
   "cell_type": "markdown",
   "metadata": {},
   "source": [
    "### Default Rate by Age Group   "
   ]
  },
  {
   "cell_type": "code",
   "execution_count": 55,
   "metadata": {},
   "outputs": [
    {
     "data": {
      "text/html": [
       "<div>\n",
       "<style scoped>\n",
       "    .dataframe tbody tr th:only-of-type {\n",
       "        vertical-align: middle;\n",
       "    }\n",
       "\n",
       "    .dataframe tbody tr th {\n",
       "        vertical-align: top;\n",
       "    }\n",
       "\n",
       "    .dataframe thead th {\n",
       "        text-align: right;\n",
       "    }\n",
       "</style>\n",
       "<table border=\"1\" class=\"dataframe\">\n",
       "  <thead>\n",
       "    <tr style=\"text-align: right;\">\n",
       "      <th></th>\n",
       "      <th>age_group</th>\n",
       "      <th>default_rate</th>\n",
       "    </tr>\n",
       "  </thead>\n",
       "  <tbody>\n",
       "    <tr>\n",
       "      <th>0</th>\n",
       "      <td>&lt;30</td>\n",
       "      <td>0.623265</td>\n",
       "    </tr>\n",
       "    <tr>\n",
       "      <th>1</th>\n",
       "      <td>30–45</td>\n",
       "      <td>0.574607</td>\n",
       "    </tr>\n",
       "    <tr>\n",
       "      <th>2</th>\n",
       "      <td>45–60</td>\n",
       "      <td>0.499832</td>\n",
       "    </tr>\n",
       "    <tr>\n",
       "      <th>3</th>\n",
       "      <td>60+</td>\n",
       "      <td>0.310335</td>\n",
       "    </tr>\n",
       "  </tbody>\n",
       "</table>\n",
       "</div>"
      ],
      "text/plain": [
       "  age_group  default_rate\n",
       "0       <30      0.623265\n",
       "1     30–45      0.574607\n",
       "2     45–60      0.499832\n",
       "3       60+      0.310335"
      ]
     },
     "metadata": {},
     "output_type": "display_data"
    }
   ],
   "source": [
    "query = \"\"\"\n",
    "SELECT age_group, AVG(dlq_2yrs) AS default_rate\n",
    "FROM credit_risk\n",
    "WHERE age_group IS NOT NULL\n",
    "GROUP BY age_group\n",
    "ORDER BY \n",
    "  CASE age_group\n",
    "    WHEN '<30' THEN 1\n",
    "    WHEN '30–45' THEN 2\n",
    "    WHEN '45–60' THEN 3\n",
    "    WHEN '60+' THEN 4\n",
    "  END;\n",
    "\"\"\"\n",
    "display(pd.read_sql_query(query, connection_object))"
   ]
  },
  {
   "cell_type": "markdown",
   "metadata": {},
   "source": [
    "#### Insight:\n",
    "\n",
    "Borrowers under 30 have the **highest delinquency rate** (~62%), while those 60+ are the **least risky** (~31%). This likely reflects factors such as credit history length, income stability, and financial responsibility with age.\n"
   ]
  },
  {
   "cell_type": "markdown",
   "metadata": {},
   "source": [
    "### Default Rate by Income Bracket"
   ]
  },
  {
   "cell_type": "code",
   "execution_count": 64,
   "metadata": {},
   "outputs": [
    {
     "data": {
      "text/html": [
       "<div>\n",
       "<style scoped>\n",
       "    .dataframe tbody tr th:only-of-type {\n",
       "        vertical-align: middle;\n",
       "    }\n",
       "\n",
       "    .dataframe tbody tr th {\n",
       "        vertical-align: top;\n",
       "    }\n",
       "\n",
       "    .dataframe thead th {\n",
       "        text-align: right;\n",
       "    }\n",
       "</style>\n",
       "<table border=\"1\" class=\"dataframe\">\n",
       "  <thead>\n",
       "    <tr style=\"text-align: right;\">\n",
       "      <th></th>\n",
       "      <th>income_bracket</th>\n",
       "      <th>default_rate</th>\n",
       "    </tr>\n",
       "  </thead>\n",
       "  <tbody>\n",
       "    <tr>\n",
       "      <th>0</th>\n",
       "      <td>&lt;2.5k</td>\n",
       "      <td>0.577396</td>\n",
       "    </tr>\n",
       "    <tr>\n",
       "      <th>1</th>\n",
       "      <td>2.5k–5k</td>\n",
       "      <td>0.550175</td>\n",
       "    </tr>\n",
       "    <tr>\n",
       "      <th>2</th>\n",
       "      <td>5k–10k</td>\n",
       "      <td>0.457244</td>\n",
       "    </tr>\n",
       "    <tr>\n",
       "      <th>3</th>\n",
       "      <td>10k+</td>\n",
       "      <td>0.366810</td>\n",
       "    </tr>\n",
       "  </tbody>\n",
       "</table>\n",
       "</div>"
      ],
      "text/plain": [
       "  income_bracket  default_rate\n",
       "0          <2.5k      0.577396\n",
       "1        2.5k–5k      0.550175\n",
       "2         5k–10k      0.457244\n",
       "3           10k+      0.366810"
      ]
     },
     "metadata": {},
     "output_type": "display_data"
    },
    {
     "data": {
      "image/png": "[encoded data removed]",
      "text/plain": [
       "<Figure size 800x500 with 1 Axes>"
      ]
     },
     "metadata": {},
     "output_type": "display_data"
    }
   ],
   "source": [
    "query = \"\"\"\n",
    "SELECT income_bracket, AVG(dlq_2yrs) AS default_rate\n",
    "FROM credit_risk\n",
    "GROUP BY income_bracket\n",
    "ORDER BY \n",
    "  CASE income_bracket\n",
    "    WHEN '<2.5k' THEN 1\n",
    "    WHEN '2.5k–5k' THEN 2\n",
    "    WHEN '5k–10k' THEN 3\n",
    "    WHEN '10k+' THEN 4\n",
    "  END;\n",
    "\"\"\"\n",
    "display(pd.read_sql_query(query, connection_object))\n",
    "df_income = pd.read_sql_query(query, connection_object)\n",
    "\n",
    "plt.figure(figsize=(8, 5))\n",
    "sns.barplot(\n",
    "    data=df_income,\n",
    "    x='income_bracket',\n",
    "    y='default_rate',\n",
    "    hue='income_bracket',          \n",
    "    palette='Blues_d',\n",
    "    legend=False               \n",
    ")\n",
    "plt.title('Default Rate by Income Bracket')\n",
    "plt.ylabel('Default Rate')\n",
    "plt.xlabel('Income Bracket')\n",
    "plt.ylim(0, 1)\n",
    "plt.grid(axis='y', linestyle='--', alpha=0.7)\n",
    "\n",
    "for i, row in df_income.iterrows():\n",
    "    plt.text(x=i, y=row['default_rate'] + 0.02, s=f\"{row['default_rate']:.2%}\", ha='center')\n",
    "\n",
    "plt.tight_layout()\n",
    "plt.show()"
   ]
  },
  {
   "cell_type": "markdown",
   "metadata": {},
   "source": [
    "#### Insight:\n",
    "\n",
    "There is a **clear inverse relationship** between income and default rate. Borrowers earning under $2.5k/month have a **default rate of nearly 58%**, while those earning over $10k/month default at a significantly lower rate of **36.7%**.\n",
    "\n",
    "This suggests that **income is a strong indicator of credit risk**, and segmenting borrowers by income can help prioritize lending strategies and risk management policies.\n"
   ]
  },
  {
   "cell_type": "markdown",
   "metadata": {},
   "source": [
    "### Default Rate by Debt Ratio Bucket"
   ]
  },
  {
   "cell_type": "code",
   "execution_count": 63,
   "metadata": {},
   "outputs": [
    {
     "data": {
      "text/html": [
       "<div>\n",
       "<style scoped>\n",
       "    .dataframe tbody tr th:only-of-type {\n",
       "        vertical-align: middle;\n",
       "    }\n",
       "\n",
       "    .dataframe tbody tr th {\n",
       "        vertical-align: top;\n",
       "    }\n",
       "\n",
       "    .dataframe thead th {\n",
       "        text-align: right;\n",
       "    }\n",
       "</style>\n",
       "<table border=\"1\" class=\"dataframe\">\n",
       "  <thead>\n",
       "    <tr style=\"text-align: right;\">\n",
       "      <th></th>\n",
       "      <th>debt_bucket</th>\n",
       "      <th>default_rate</th>\n",
       "    </tr>\n",
       "  </thead>\n",
       "  <tbody>\n",
       "    <tr>\n",
       "      <th>0</th>\n",
       "      <td>Low</td>\n",
       "      <td>0.445992</td>\n",
       "    </tr>\n",
       "    <tr>\n",
       "      <th>1</th>\n",
       "      <td>Medium</td>\n",
       "      <td>0.490325</td>\n",
       "    </tr>\n",
       "    <tr>\n",
       "      <th>2</th>\n",
       "      <td>High</td>\n",
       "      <td>0.616214</td>\n",
       "    </tr>\n",
       "    <tr>\n",
       "      <th>3</th>\n",
       "      <td>Extreme</td>\n",
       "      <td>0.666667</td>\n",
       "    </tr>\n",
       "  </tbody>\n",
       "</table>\n",
       "</div>"
      ],
      "text/plain": [
       "  debt_bucket  default_rate\n",
       "0         Low      0.445992\n",
       "1      Medium      0.490325\n",
       "2        High      0.616214\n",
       "3     Extreme      0.666667"
      ]
     },
     "metadata": {},
     "output_type": "display_data"
    },
    {
     "data": {
      "image/png": "[encoded data removed]",
      "text/plain": [
       "<Figure size 800x500 with 1 Axes>"
      ]
     },
     "metadata": {},
     "output_type": "display_data"
    }
   ],
   "source": [
    "query = \"\"\"\n",
    "SELECT debt_bucket, AVG(dlq_2yrs) AS default_rate\n",
    "FROM credit_risk\n",
    "GROUP BY debt_bucket\n",
    "ORDER BY \n",
    "  CASE debt_bucket\n",
    "    WHEN 'Low' THEN 1\n",
    "    WHEN 'Medium' THEN 2\n",
    "    WHEN 'High' THEN 3\n",
    "    WHEN 'Extreme' THEN 4\n",
    "  END;\n",
    "\"\"\"\n",
    "display(pd.read_sql_query(query, connection_object))\n",
    "\n",
    "df_debt = pd.read_sql_query(query, connection_object)\n",
    "plt.figure(figsize=(8, 5))\n",
    "sns.barplot(\n",
    "    data=df_debt,\n",
    "    x='debt_bucket',\n",
    "    y='default_rate',\n",
    "    hue='debt_bucket',            # avoids Seaborn warning\n",
    "    palette='Reds',\n",
    "    legend=False\n",
    ")\n",
    "plt.title('Default Rate by Debt Ratio Bucket')\n",
    "plt.xlabel('Debt Bucket')\n",
    "plt.ylabel('Default Rate')\n",
    "plt.ylim(0, 1)\n",
    "plt.grid(axis='y', linestyle='--', alpha=0.7)\n",
    "\n",
    "# Optional: Add percentage labels on top of bars\n",
    "for i, row in df_debt.iterrows():\n",
    "    plt.text(x=i, y=row['default_rate'] + 0.02, s=f\"{row['default_rate']:.2%}\", ha='center')\n",
    "\n",
    "plt.tight_layout()\n",
    "plt.show()\n"
   ]
  },
  {
   "cell_type": "markdown",
   "metadata": {},
   "source": [
    "#### Insight:\n",
    "\n",
    "Borrowers with higher debt-to-income ratios are significantly more likely to default. The default rate climbs from 44% in the \"Low\" bucket (DTI ≤ 30%) to nearly 67% in the \"Extreme\" bucket (DTI > 100%).\n",
    "\n",
    "This sharp increase highlights DTI as a **key driver of credit risk**, making it a vital input for credit scoring models and lending decisions.\n"
   ]
  }
 ],
 "metadata": {
  "kernelspec": {
   "display_name": ".venv",
   "language": "python",
   "name": "python3"
  },
  "language_info": {
   "codemirror_mode": {
    "name": "ipython",
    "version": 3
   },
   "file_extension": ".py",
   "mimetype": "text/x-python",
   "name": "python",
   "nbconvert_exporter": "python",
   "pygments_lexer": "ipython3",
   "version": "3.12.5"
  }
 },
 "nbformat": 4,
 "nbformat_minor": 2
}
